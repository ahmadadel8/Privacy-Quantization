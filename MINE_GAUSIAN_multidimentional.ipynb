{
 "cells": [
  {
   "cell_type": "code",
   "execution_count": 1,
   "metadata": {},
   "outputs": [],
   "source": [
    "import numpy as np\n",
    "import tensorflow as tf\n",
    "import tensorflow.contrib.layers as layers\n",
    "import matplotlib.pyplot as plt\n",
    "from sklearn import *\n",
    "import math "
   ]
  },
  {
   "cell_type": "code",
   "execution_count": 6,
   "metadata": {},
   "outputs": [],
   "source": [
    "# data\n",
    "d=5\n",
    "L=2000\n",
    "\n",
    "\n",
    "eta_X=datasets.make_spd_matrix(d, random_state=None)\n",
    "eta_N=datasets.make_spd_matrix(d, random_state=None)   \n",
    "eta_Y=eta_X+eta_N\n",
    "\n",
    "meu=np.zeros(d)\n",
    "def func(x):\n",
    "    return x\n",
    "\n",
    "def gen_X():\n",
    "    return np.random.multivariate_normal( mean=meu,\n",
    "                                  cov=eta_X,\n",
    "                                  size = L)\n",
    "def noise():\n",
    "    return np.random.multivariate_normal( mean=meu,\n",
    "                                  cov=eta_N,\n",
    "                                 size = L)\n",
    "\n",
    "def gen_Y(X,N):\n",
    "    return func(X)+func(N)\n",
    "\n"
   ]
  },
  {
   "cell_type": "code",
   "execution_count": 7,
   "metadata": {},
   "outputs": [
    {
     "name": "stdout",
     "output_type": "stream",
     "text": [
      "3.402688689292958\n"
     ]
    }
   ],
   "source": [
    "X=gen_X()\n",
    "N=noise()\n",
    "y=gen_Y(X,N)\n",
    "mi = 0.5*math.log(np.linalg.det(eta_Y)/np.linalg.det(eta_X),2)\n",
    "print(mi)"
   ]
  },
  {
   "cell_type": "code",
   "execution_count": 8,
   "metadata": {},
   "outputs": [],
   "source": [
    "def ma(array, policy,window_size=None, beta=None):\n",
    "    x=np.zeros(len(array))\n",
    "    if policy=='window':\n",
    "        for i in range(0, len(array)):\n",
    "            if i<window_size:\n",
    "                x[i]= np.mean(array[0: i])\n",
    "            else:\n",
    "                x[i]= np.mean(array[i-window_size: i])\n",
    "    elif policy=='weighted':\n",
    "        x[0]=array[0]\n",
    "        for i in range(1, len(array)):\n",
    "               x[i]=x[i-1]*(1-beta)+beta*array[i]\n",
    "    elif policy=='None':\n",
    "        for i in range(1, len(array)):\n",
    "             x[i]=array[i] \n",
    "    return x\n"
   ]
  },
  {
   "cell_type": "code",
   "execution_count": 9,
   "metadata": {},
   "outputs": [
    {
     "name": "stderr",
     "output_type": "stream",
     "text": [
      "C:\\Users\\ahmedadel\\AppData\\Local\\Continuum\\anaconda3\\lib\\site-packages\\tensorflow\\python\\client\\session.py:1702: UserWarning: An interactive session is already active. This can cause out-of-memory errors in some cases. You must explicitly call `InteractiveSession.close()` to release resources held by the other session(s).\n",
      "  warnings.warn('An interactive session is already active. This can '\n"
     ]
    },
    {
     "name": "stdout",
     "output_type": "stream",
     "text": [
      "true value:9999996\n",
      "3.402688689292958\n",
      "calculated value:\n",
      "0.38046517968177795\n",
      "error\n",
      "88.81868973559158\n",
      "\n",
      "\n"
     ]
    },
    {
     "name": "stderr",
     "output_type": "stream",
     "text": [
      "C:\\Users\\ahmedadel\\AppData\\Local\\Continuum\\anaconda3\\lib\\site-packages\\ipykernel_launcher.py:69: UserWarning: Matplotlib is currently using module://ipykernel.pylab.backend_inline, which is a non-GUI backend, so cannot show the figure.\n"
     ]
    },
    {
     "data": {
      "image/png": "[encoded data removed]",
      "text/plain": [
       "<Figure size 432x288 with 1 Axes>"
      ]
     },
     "metadata": {
      "needs_background": "light"
     },
     "output_type": "display_data"
    }
   ],
   "source": [
    "H=40\n",
    "M=100\n",
    "n_epochs = 200\n",
    "\n",
    "def MINE(x_in, y_in):\n",
    "    \n",
    "    # shuffle and concatenate\n",
    "    y_shuffle = tf.random_shuffle(y_in)\n",
    "    x_conc = tf.concat([x_in, x_in], axis=0)\n",
    "    y_conc = tf.concat([y_in, y_shuffle], axis=0)\n",
    "    \n",
    "    # propagate the forward pass\n",
    "    layerx = tf.contrib.layers.fully_connected(x_conc, H, activation_fn=None)\n",
    "    layery = tf.contrib.layers.fully_connected(y_conc, H, activation_fn=None)\n",
    "    layer2 = tf.nn.relu(layerx + layery)\n",
    "    layer3 = tf.contrib.layers.fully_connected(layer2, L, activation_fn=None)\n",
    "    output = tf.contrib.layers.fully_connected(layer2, L, activation_fn=None)\n",
    "    \n",
    "    # split in T_xy and T_x_y predictions\n",
    "    N_samples = tf.shape(x_in)[0]\n",
    "    T_xy = output[:N_samples]\n",
    "    T_x_y = output[N_samples:]\n",
    "    # compute the negative loss (maximise loss == minimise -loss)\n",
    "    neg_loss = -(tf.reduce_mean(T_xy, axis=0) - tf.math.log(tf.reduce_mean(tf.math.exp(T_x_y))))\n",
    "    opt = tf.train.AdamOptimizer(learning_rate=0.01).minimize(neg_loss)\n",
    "\n",
    "    return neg_loss, opt\n",
    "\n",
    "# prepare the placeholders for inputs\n",
    "x_in = tf.placeholder(tf.float32, [None, 1], name='x_in')\n",
    "y_in = tf.placeholder(tf.float32, [None, 1], name='y_in')\n",
    "\n",
    "# make the loss and optimisation graphs\n",
    "neg_loss, opt = MINE(x_in, y_in)\n",
    "\n",
    "# start the session\n",
    "sess = tf.InteractiveSession()\n",
    "sess.run(tf.global_variables_initializer())\n",
    "\n",
    "# train\n",
    "MIs = []\n",
    "for epoch in range(n_epochs):\n",
    "    \n",
    "    # generate the data\n",
    "    x_sample=gen_X()\n",
    "    noise_sample=noise()\n",
    "    Y=gen_Y(x_sample,noise_sample)\n",
    "    X_1D=X.reshape(-1,1)\n",
    "    Y_1D=y.reshape(-1,1)\n",
    "\n",
    "    # perform the training step\n",
    "    feed_dict = {x_in:X_1D, y_in:Y_1D}\n",
    "    _, neg_l = sess.run([opt, neg_loss], feed_dict=feed_dict)\n",
    "\n",
    "    # save the loss\n",
    "    MIs.append(-neg_l)\n",
    "    print(epoch/n_epochs*100, end='\\r')\n",
    "mv_av=ma(MIs, policy='window', window_size=10)\n",
    "\n",
    "\n",
    "\n",
    "fig, ax = plt.subplots()\n",
    "ax.plot([0, len(MIs)], [mi,mi], label='True Mutual Information')\n",
    "ax.plot(range(len(mv_av)), mv_av, label='Moving Average of MINE (window policy)')\n",
    "\n",
    "ax.set_xlabel('training steps')\n",
    "ax.legend(loc='best')\n",
    "fig.savefig('MINE_window.png')\n",
    "fig.show()\n",
    "\n",
    "\n",
    "\n",
    "error=(abs(mv_av[-1]-mi)/mi)*100\n",
    "print('true value:')\n",
    "print(mi)\n",
    "print('calculated value:')\n",
    "print(mv_av[-1])\n",
    "print('error')\n",
    "print(error)\n",
    "print('\\n')\n",
    "\n",
    "\n"
   ]
  },
  {
   "cell_type": "code",
   "execution_count": null,
   "metadata": {},
   "outputs": [],
   "source": []
  },
  {
   "cell_type": "code",
   "execution_count": null,
   "metadata": {},
   "outputs": [],
   "source": []
  },
  {
   "cell_type": "code",
   "execution_count": null,
   "metadata": {},
   "outputs": [],
   "source": []
  }
 ],
 "metadata": {
  "kernelspec": {
   "display_name": "Python 3",
   "language": "python",
   "name": "python3"
  },
  "language_info": {
   "codemirror_mode": {
    "name": "ipython",
    "version": 3
   },
   "file_extension": ".py",
   "mimetype": "text/x-python",
   "name": "python",
   "nbconvert_exporter": "python",
   "pygments_lexer": "ipython3",
   "version": "3.7.3"
  }
 },
 "nbformat": 4,
 "nbformat_minor": 2
}
