{
 "cells": [
  {
   "cell_type": "code",
   "execution_count": 1,
   "metadata": {},
   "outputs": [],
   "source": [
    "import numpy as np\n",
    "import tensorflow as tf\n",
    "import tensorflow.contrib.layers as layers\n",
    "import matplotlib.pyplot as plt\n",
    "from sklearn import *\n",
    "import math \n",
    "import random\n",
    "import itertools\n"
   ]
  },
  {
   "cell_type": "code",
   "execution_count": 32,
   "metadata": {},
   "outputs": [],
   "source": [
    "# data\n",
    "L=64\n",
    "B=1000\n",
    "d=3\n",
    "\n",
    "def xavier_init(size):\n",
    "    in_dim = size[0]\n",
    "    xavier_stddev = 1.0 / tf.sqrt(in_dim / 2.0)\n",
    "    return tf.random_normal(shape=size, stddev=xavier_stddev)\n",
    "\n",
    "\n",
    "\n",
    "def log2(x):\n",
    "    numerator = tf.log(x)\n",
    "    denominator = tf.log(tf.constant(2, dtype=numerator.dtype),)\n",
    "    return numerator / denominator\n",
    "\n",
    "def func(x):\n",
    "    return x\n",
    "\n",
    "\n",
    "def gen_X():\n",
    "    return np.random.multivariate_normal( mean=meu,\n",
    "                                  cov=eta_X,\n",
    "                                  size = [B, L,L])\n",
    "\n",
    "\n",
    "def gen_Y(X):\n",
    "    return func(X)+ np.random.multivariate_normal( mean=meu, cov=eta_N, size =  [B, L,L])\n",
    "\n"
   ]
  },
  {
   "cell_type": "code",
   "execution_count": 33,
   "metadata": {},
   "outputs": [],
   "source": [
    "meu=np.zeros(d)\n",
    "eta_X=datasets.make_spd_matrix(d, random_state=None)\n",
    "eta_N=datasets.make_spd_matrix(d, random_state=None)   \n",
    "eta_Y=eta_X+eta_N\n",
    "\n",
    "\n",
    "x=gen_X()\n",
    "y=gen_Y(x)\n",
    "mi = 0.5*np.log2(np.linalg.det(eta_Y)/np.linalg.det(eta_N))"
   ]
  },
  {
   "cell_type": "code",
   "execution_count": 34,
   "metadata": {},
   "outputs": [
    {
     "data": {
      "text/plain": [
       "(1000, 64, 64, 3)"
      ]
     },
     "execution_count": 34,
     "metadata": {},
     "output_type": "execute_result"
    }
   ],
   "source": [
    "x.shape"
   ]
  },
  {
   "cell_type": "code",
   "execution_count": 35,
   "metadata": {},
   "outputs": [],
   "source": [
    "def ma(array, policy,window_size=None, beta=None):\n",
    "    x=np.zeros(len(array))\n",
    "    if policy=='window':\n",
    "        for i in range(0, len(array)):\n",
    "            if i<window_size:\n",
    "                x[i]= np.mean(array[0: i])\n",
    "            else:\n",
    "                x[i]= np.mean(array[i-window_size: i])\n",
    "    elif policy=='weighted':\n",
    "        x[0]=array[0]\n",
    "        for i in range(1, len(array)):\n",
    "               x[i]=x[i-1]*(1-beta)+beta*array[i]\n",
    "    elif policy=='None':\n",
    "        for i in range(1, len(array)):\n",
    "             x[i]=array[i] \n",
    "    return x\n"
   ]
  },
  {
   "cell_type": "code",
   "execution_count": null,
   "metadata": {},
   "outputs": [],
   "source": []
  },
  {
   "cell_type": "code",
   "execution_count": 36,
   "metadata": {},
   "outputs": [],
   "source": [
    "def MINE(x, y):\n",
    "\n",
    "    W1 = tf.get_variable(\"W1\", [4, 4, 3, 8], initializer=tf.contrib.layers.xavier_initializer())\n",
    "    W2 = tf.get_variable(\"W2\", [2, 2, 8, 16], initializer=tf.contrib.layers.xavier_initializer())\n",
    "    Wout=tf.Variable(xavier_init( [128,1]))\n",
    "    bout=tf.Variable(tf.zeros([1]))\n",
    "\n",
    "    x_shuffle=tf.random_shuffle(x)\n",
    "    y_shuffle=tf.random_shuffle(y)\n",
    "    \n",
    "    In = tf.concat([x, y], axis=2)\n",
    "\n",
    "    \n",
    "    In_shuffle = tf.concat([x, y_shuffle], axis=2)\n",
    "\n",
    "\n",
    "    layer_joint1 = tf.nn.relu(tf.nn.conv2d(In, W1, strides=[1, 1, 1, 1], padding='SAME'))\n",
    "    layer_jointP1 = tf.nn.max_pool(layer_joint1, ksize = [1, 8, 8, 1], strides = [1, 8, 8, 1], padding='SAME')\n",
    "    \n",
    "    layer_marg1 = tf.nn.relu(tf.nn.conv2d(In_shuffle, W1, strides=[1, 1, 1, 1], padding='SAME'))\n",
    "    layer_margP1 = tf.nn.max_pool(layer_marg1, ksize = [1, 8, 8, 1], strides = [1, 8, 8, 1], padding='SAME')\n",
    "\n",
    "    layer_joint2 =tf.nn.relu(tf.nn.conv2d(layer_jointP1, W2, strides=[1, 1, 1, 1], padding='SAME'))\n",
    "    layer_jointP2 = tf.nn.max_pool(layer_joint2, ksize = [1, 4, 4, 1], strides = [1, 4, 4, 1], padding='SAME')\n",
    "\n",
    "    layer_marg2 =tf.nn.relu(tf.nn.conv2d(layer_margP1, W2, strides=[1, 1, 1, 1], padding='SAME'))\n",
    "    layer_margP2 = tf.nn.max_pool(layer_marg2, ksize = [1, 4, 4, 1], strides = [1, 4, 4, 1], padding='SAME')\n",
    "\n",
    "    \n",
    "    layer_joint3= tf.contrib.layers.flatten(layer_jointP2)\n",
    "    layer_marg3= tf.contrib.layers.flatten(layer_margP2)\n",
    "    \n",
    "    \n",
    "    out_joint=abs(tf.matmul(layer_joint3,Wout)+bout)\n",
    "    out_marg=abs(tf.matmul(layer_marg3,Wout)+bout)\n",
    "   \n",
    "    \n",
    "    lower_bound=(tf.reduce_mean(out_joint,axis=0)-log2(tf.reduce_mean(tf.math.pow(2.0,out_marg),axis=0)+10e-5))\n",
    "\n",
    "    theta = [W1,W2 ,Wout, bout]\n",
    "\n",
    "    opt = tf.train.AdamOptimizer(0.01).minimize((-lower_bound), var_list=[theta])\n",
    "\n",
    "\n",
    "    return lower_bound, opt"
   ]
  },
  {
   "cell_type": "code",
   "execution_count": 37,
   "metadata": {},
   "outputs": [
    {
     "name": "stdout",
     "output_type": "stream",
     "text": [
      "99.9500000000000166\r"
     ]
    }
   ],
   "source": [
    "   \n",
    "    \n",
    "    tf.reset_default_graph()\n",
    "    # prepare the placeholders for inputs\n",
    "    x_in = tf.placeholder(tf.float32, [B,L,L,d], name='x_in')\n",
    "    y_in = tf.placeholder(tf.float32, [B,L,L,d], name='y_in')\n",
    "    # make the loss and optimisation graphs\n",
    "    lower_bound, train_step= MINE(x_in, y_in)\n",
    "\n",
    "    # start the session\n",
    "    sess = tf.InteractiveSession()\n",
    "    sess.run(tf.global_variables_initializer())\n",
    "\n",
    "    # train\n",
    "    MIs = []\n",
    "\n",
    "    n_epochs = 2000\n",
    "   \n",
    "\n",
    "\n",
    "\n",
    "    for epoch in range(n_epochs):\n",
    "\n",
    "        # generate the data\n",
    "        x_sample=gen_X()\n",
    "        y_sample=gen_Y(x_sample)\n",
    "\n",
    "\n",
    "        # perform the training step \n",
    "        feed_dict = {x_in:x_sample, y_in:y_sample}\n",
    "        low_bnd,_ = sess.run([lower_bound, train_step], feed_dict=feed_dict)\n",
    "       # print (te)\n",
    "        # save the loss\n",
    "        MIs.append(low_bnd)\n",
    "        print(epoch/n_epochs*100, end='\\r')\n",
    "  \n",
    "    mv_av=ma(MIs, policy='weighted', beta=0.01)\n",
    "\n",
    "    m=list(mv_av)\n",
    "    cMI=max(m)\n",
    "    error=((cMI-mi)/mi)*100\n",
    "\n",
    "\n",
    "    op = open(\"CNN.txt\",\"a\") \n",
    "\n",
    "    op.write( ' True value: {:.4} ; calculated value: {:.4}; error: {:.4}%; Average:{:.4}% \\n'\n",
    "    .format(mi, cMI, error, np.mean(error))) \n",
    "    op.close() \n",
    "    sess.close()\n",
    "              \n"
   ]
  },
  {
   "cell_type": "code",
   "execution_count": 38,
   "metadata": {},
   "outputs": [
    {
     "name": "stderr",
     "output_type": "stream",
     "text": [
      "C:\\Users\\ahmedadel\\AppData\\Local\\Continuum\\anaconda3\\lib\\site-packages\\ipykernel_launcher.py:8: UserWarning: Matplotlib is currently using module://ipykernel.pylab.backend_inline, which is a non-GUI backend, so cannot show the figure.\n",
      "  \n"
     ]
    },
    {
     "data": {
      "image/png": "[encoded data removed]",
      "text/plain": [
       "<Figure size 432x288 with 1 Axes>"
      ]
     },
     "metadata": {
      "needs_background": "light"
     },
     "output_type": "display_data"
    }
   ],
   "source": [
    "fig, ax = plt.subplots()\n",
    "ax.plot([0, len(MIs)], [mi,mi], label='True Mutual Information')\n",
    "ax.plot(range(len(mv_av)), MIs, label='Moving Average of MINE ')\n",
    "\n",
    "ax.set_xlabel('training steps')\n",
    "ax.legend\n",
    "(loc='best')\n",
    "fig.savefig('CNN.png')\n",
    "fig.show()"
   ]
  },
  {
   "cell_type": "code",
   "execution_count": null,
   "metadata": {},
   "outputs": [],
   "source": []
  }
 ],
 "metadata": {
  "kernelspec": {
   "display_name": "Python 3",
   "language": "python",
   "name": "python3"
  },
  "language_info": {
   "codemirror_mode": {
    "name": "ipython",
    "version": 3
   },
   "file_extension": ".py",
   "mimetype": "text/x-python",
   "name": "python",
   "nbconvert_exporter": "python",
   "pygments_lexer": "ipython3",
   "version": "3.7.3"
  }
 },
 "nbformat": 4,
 "nbformat_minor": 2
}
