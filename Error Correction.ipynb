{
 "cells": [
  {
   "cell_type": "code",
   "execution_count": 1,
   "metadata": {},
   "outputs": [],
   "source": [
    "searchfile = open(\"d=10.txt\", \"r\")\n",
    "error=[]\n",
    "for line in searchfile:\n",
    "    if \"error:\" in line: \n",
    "        st=line.index('error:')+7\n",
    "        en =line.index('; A')\n",
    "        er=float(line[st:en-1])\n",
    "        error.append(er)\n",
    "searchfile.close()\n",
    "\n",
    "searchfile = open(\"d=10_6L.txt\", \"r\")\n",
    "error_t=[]\n",
    "True_Value=[]\n",
    "Calculated_Value=[]\n",
    "\n",
    "for line in searchfile:\n",
    "    if \"error:\" in line: \n",
    "        st=line.index('error:')+7\n",
    "        en =line.index('Average')\n",
    "        er=float(line[st:en-3])\n",
    "        error_t.append(er)\n",
    "        \n",
    "        st=line.index('True value:')+12\n",
    "        en =line.index('; calculated value:')\n",
    "        t=float(line[st:en])\n",
    "        True_Value.append(t)\n",
    "        \n",
    "        st=en+20\n",
    "        en =line.index('; error:')\n",
    "        c=float(line[st:en])\n",
    "        Calculated_Value.append(c)\n",
    "\n",
    "searchfile.close()"
   ]
  },
  {
   "cell_type": "code",
   "execution_count": 2,
   "metadata": {},
   "outputs": [
    {
     "data": {
      "text/plain": [
       "[5.852,\n",
       " 9.933,\n",
       " 10.31,\n",
       " 6.096,\n",
       " 7.693,\n",
       " 5.79,\n",
       " 6.845,\n",
       " 5.9,\n",
       " 7.929,\n",
       " 6.379,\n",
       " 7.258,\n",
       " 7.516,\n",
       " 7.192,\n",
       " 8.906,\n",
       " 6.989,\n",
       " 7.538,\n",
       " 4.852,\n",
       " 8.837,\n",
       " 6.568,\n",
       " 6.835,\n",
       " 9.978,\n",
       " 8.562,\n",
       " 5.933,\n",
       " 8.142,\n",
       " 6.164,\n",
       " 5.637,\n",
       " 7.124,\n",
       " 7.322,\n",
       " 8.837,\n",
       " 7.528,\n",
       " 5.254,\n",
       " 5.718,\n",
       " 6.233,\n",
       " 7.897,\n",
       " 5.79,\n",
       " 7.674,\n",
       " 7.141,\n",
       " 7.105,\n",
       " 6.06,\n",
       " 6.691,\n",
       " 5.492,\n",
       " 6.665,\n",
       " 5.578,\n",
       " 7.638,\n",
       " 6.048,\n",
       " 6.943,\n",
       " 7.768,\n",
       " 7.561,\n",
       " 7.414,\n",
       " 7.455,\n",
       " 6.056,\n",
       " 7.199,\n",
       " 8.841,\n",
       " 5.166,\n",
       " 8.459,\n",
       " 7.111,\n",
       " 7.717,\n",
       " 4.965,\n",
       " 7.31,\n",
       " 9.16,\n",
       " 6.944,\n",
       " 6.331,\n",
       " 7.545,\n",
       " 12.54,\n",
       " 5.091,\n",
       " 6.489,\n",
       " 6.848,\n",
       " 7.637,\n",
       " 9.883,\n",
       " 7.52,\n",
       " 6.322,\n",
       " 4.886,\n",
       " 7.398,\n",
       " 4.618,\n",
       " 10.09,\n",
       " 9.842,\n",
       " 5.524,\n",
       " 8.317,\n",
       " 6.07,\n",
       " 9.865,\n",
       " 6.082,\n",
       " 5.937,\n",
       " 6.567,\n",
       " 5.365,\n",
       " 7.654,\n",
       " 7.15,\n",
       " 5.771,\n",
       " 7.392,\n",
       " 6.017,\n",
       " 7.654,\n",
       " 8.126,\n",
       " 6.808,\n",
       " 7.392,\n",
       " 7.676,\n",
       " 7.543,\n",
       " 8.07,\n",
       " 7.274,\n",
       " 6.587,\n",
       " 5.631,\n",
       " 6.877,\n",
       " 7.517,\n",
       " 6.009,\n",
       " 6.213,\n",
       " 8.071,\n",
       " 5.181,\n",
       " 6.403,\n",
       " 5.54,\n",
       " 7.941,\n",
       " 10.47,\n",
       " 9.327,\n",
       " 6.958,\n",
       " 6.789,\n",
       " 6.18,\n",
       " 4.823,\n",
       " 8.995,\n",
       " 6.798,\n",
       " 9.257,\n",
       " 7.928,\n",
       " 6.811,\n",
       " 8.037,\n",
       " 5.616,\n",
       " 7.418,\n",
       " 8.216,\n",
       " 5.487,\n",
       " 7.581,\n",
       " 6.12,\n",
       " 5.987,\n",
       " 5.652,\n",
       " 10.33,\n",
       " 8.214,\n",
       " 6.248,\n",
       " 7.621,\n",
       " 8.285,\n",
       " 7.69,\n",
       " 6.327,\n",
       " 8.936,\n",
       " 6.755,\n",
       " 9.302,\n",
       " 5.806,\n",
       " 6.575,\n",
       " 7.935,\n",
       " 7.961,\n",
       " 8.539,\n",
       " 6.08,\n",
       " 6.845,\n",
       " 10.08,\n",
       " 8.516,\n",
       " 8.542,\n",
       " 10.95,\n",
       " 10.36,\n",
       " 9.296,\n",
       " 9.435,\n",
       " 7.218,\n",
       " 6.734,\n",
       " 9.661,\n",
       " 6.556,\n",
       " 7.142,\n",
       " 7.548,\n",
       " 7.26,\n",
       " 5.955,\n",
       " 9.248,\n",
       " 4.589,\n",
       " 11.45,\n",
       " 9.828,\n",
       " 6.172,\n",
       " 5.393,\n",
       " 6.158,\n",
       " 6.975,\n",
       " 7.265,\n",
       " 7.881,\n",
       " 5.927,\n",
       " 7.042,\n",
       " 9.144,\n",
       " 5.861,\n",
       " 8.0,\n",
       " 8.584,\n",
       " 6.162,\n",
       " 5.339,\n",
       " 6.616,\n",
       " 8.768,\n",
       " 4.941,\n",
       " 5.214,\n",
       " 9.349,\n",
       " 8.836,\n",
       " 6.908,\n",
       " 8.425,\n",
       " 5.33,\n",
       " 6.041,\n",
       " 5.068,\n",
       " 9.215,\n",
       " 5.948,\n",
       " 7.327,\n",
       " 7.547,\n",
       " 7.911,\n",
       " 7.707,\n",
       " 9.767,\n",
       " 6.112,\n",
       " 8.948,\n",
       " 6.756,\n",
       " 9.476,\n",
       " 7.249,\n",
       " 4.961,\n",
       " 7.061,\n",
       " 6.378,\n",
       " 9.222,\n",
       " 8.253,\n",
       " 6.377,\n",
       " 8.494,\n",
       " 6.535,\n",
       " 6.916,\n",
       " 7.963,\n",
       " 8.219,\n",
       " 5.319,\n",
       " 6.542,\n",
       " 8.298,\n",
       " 6.983,\n",
       " 9.438,\n",
       " 6.264,\n",
       " 5.602,\n",
       " 6.008,\n",
       " 5.335,\n",
       " 7.107,\n",
       " 6.484,\n",
       " 8.607,\n",
       " 6.549,\n",
       " 7.469,\n",
       " 9.274,\n",
       " 8.129,\n",
       " 10.33,\n",
       " 8.081,\n",
       " 9.944,\n",
       " 8.427,\n",
       " 6.25,\n",
       " 8.332,\n",
       " 8.393,\n",
       " 4.721,\n",
       " 6.666,\n",
       " 6.735,\n",
       " 6.487,\n",
       " 8.848,\n",
       " 7.509,\n",
       " 6.289,\n",
       " 6.994,\n",
       " 6.352,\n",
       " 5.789,\n",
       " 5.746,\n",
       " 9.013,\n",
       " 9.191,\n",
       " 6.3]"
      ]
     },
     "execution_count": 2,
     "metadata": {},
     "output_type": "execute_result"
    }
   ],
   "source": [
    "True_Value"
   ]
  },
  {
   "cell_type": "code",
   "execution_count": 3,
   "metadata": {},
   "outputs": [],
   "source": [
    "import numpy as np\n",
    "import scipy.stats"
   ]
  },
  {
   "cell_type": "code",
   "execution_count": 4,
   "metadata": {},
   "outputs": [
    {
     "name": "stderr",
     "output_type": "stream",
     "text": [
      "C:\\Users\\ahmedadel\\AppData\\Local\\Continuum\\anaconda3\\lib\\site-packages\\ipykernel_launcher.py:7: MatplotlibDeprecationWarning: \n",
      "The 'normed' kwarg was deprecated in Matplotlib 2.1 and will be removed in 3.1. Use 'density' instead.\n",
      "  import sys\n"
     ]
    },
    {
     "data": {
      "text/plain": [
       "[<matplotlib.lines.Line2D at 0xbdf8de3f28>]"
      ]
     },
     "execution_count": 4,
     "metadata": {},
     "output_type": "execute_result"
    }
   ],
   "source": [
    "bw =  None\n",
    "kde = scipy.stats.gaussian_kde(error_t,bw_method=bw) \n",
    "\n",
    "\n",
    "# plot (normalized) histogram of the data\n",
    "import matplotlib.pyplot as plt \n",
    "plt.hist(error_t, 50, normed=1, facecolor='green', alpha=0.5);\n",
    "\n",
    "# plot density estimates\n",
    "t_range = np.linspace(min(error_t),max(error_t),len(error_t))\n",
    "plt.plot(t_range,kde(t_range),lw=2)\n"
   ]
  },
  {
   "cell_type": "code",
   "execution_count": 5,
   "metadata": {},
   "outputs": [],
   "source": [
    "std_dev, mean=np.std(error), np.mean(error)\n",
    "std_dev_t, mean_t=np.std(error_t), np.mean(error_t)"
   ]
  },
  {
   "cell_type": "code",
   "execution_count": 6,
   "metadata": {},
   "outputs": [
    {
     "name": "stdout",
     "output_type": "stream",
     "text": [
      "2.732003248812149 -12.202188755020082\n"
     ]
    }
   ],
   "source": [
    "print(std_dev_t, mean_t)\n"
   ]
  },
  {
   "cell_type": "code",
   "execution_count": 7,
   "metadata": {},
   "outputs": [],
   "source": [
    "Corrected_Value=[]\n",
    "Corrected_error=[]\n",
    "for i in range(len(Calculated_Value)):\n",
    "    Corrected_Value.append(Calculated_Value[i]/(1+mean*0.01))\n",
    "    Corrected_error.append(((True_Value[i]-Corrected_Value[i])/True_Value[i])*100)\n",
    "    "
   ]
  },
  {
   "cell_type": "code",
   "execution_count": 8,
   "metadata": {},
   "outputs": [],
   "source": [
    "std_dev_c, mean_c=np.std(Corrected_error), np.mean(Corrected_error)"
   ]
  },
  {
   "cell_type": "code",
   "execution_count": 9,
   "metadata": {},
   "outputs": [
    {
     "name": "stdout",
     "output_type": "stream",
     "text": [
      "3.109476385413294 0.07005781471893142\n"
     ]
    }
   ],
   "source": [
    "print(std_dev_c, mean_c)"
   ]
  },
  {
   "cell_type": "code",
   "execution_count": 10,
   "metadata": {},
   "outputs": [
    {
     "name": "stderr",
     "output_type": "stream",
     "text": [
      "C:\\Users\\ahmedadel\\AppData\\Local\\Continuum\\anaconda3\\lib\\site-packages\\ipykernel_launcher.py:7: MatplotlibDeprecationWarning: \n",
      "The 'normed' kwarg was deprecated in Matplotlib 2.1 and will be removed in 3.1. Use 'density' instead.\n",
      "  import sys\n"
     ]
    },
    {
     "data": {
      "text/plain": [
       "[<matplotlib.lines.Line2D at 0xbdf905c0f0>]"
      ]
     },
     "execution_count": 10,
     "metadata": {},
     "output_type": "execute_result"
    },
    {
     "data": {
      "image/png": "[encoded data removed]",
      "text/plain": [
       "<Figure size 432x288 with 1 Axes>"
      ]
     },
     "metadata": {
      "needs_background": "light"
     },
     "output_type": "display_data"
    }
   ],
   "source": [
    "bw =  None\n",
    "kde = scipy.stats.gaussian_kde(Corrected_error,bw_method=bw) \n",
    "\n",
    "\n",
    "# plot (normalized) histogram of the data\n",
    "import matplotlib.pyplot as plt \n",
    "plt.hist(Corrected_error, 50, normed=1, facecolor='green', alpha=0.5);\n",
    "\n",
    "# plot density estimates\n",
    "t_range = np.linspace(min(Corrected_error),max(Corrected_error),len(Corrected_error))\n",
    "plt.plot(t_range,kde(t_range),lw=2)\n"
   ]
  },
  {
   "cell_type": "code",
   "execution_count": null,
   "metadata": {},
   "outputs": [],
   "source": []
  }
 ],
 "metadata": {
  "kernelspec": {
   "display_name": "Python 3",
   "language": "python",
   "name": "python3"
  },
  "language_info": {
   "codemirror_mode": {
    "name": "ipython",
    "version": 3
   },
   "file_extension": ".py",
   "mimetype": "text/x-python",
   "name": "python",
   "nbconvert_exporter": "python",
   "pygments_lexer": "ipython3",
   "version": "3.7.3"
  }
 },
 "nbformat": 4,
 "nbformat_minor": 2
}
