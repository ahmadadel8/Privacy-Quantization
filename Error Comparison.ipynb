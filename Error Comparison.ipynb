{
 "cells": [
  {
   "cell_type": "code",
   "execution_count": 1,
   "metadata": {},
   "outputs": [],
   "source": [
    "searchfile = open(\"d=5_5L.txt\", \"r\")\n",
    "error_5=[]\n",
    "for line in searchfile:\n",
    "    if \"error:\" in line: \n",
    "        st=line.index('error:')+7\n",
    "        en =-3\n",
    "        er=float(line[st:en])\n",
    "        error_5.append(er)\n",
    "searchfile.close()\n",
    "\n",
    "searchfile = open(\"d=5_6L.txt\", \"r\")\n",
    "error_6=[]\n",
    "for line in searchfile:\n",
    "    if \"error:\" in line: \n",
    "        st=line.index('error:')+7\n",
    "        en =-3\n",
    "        er=float(line[st:en])\n",
    "        error_6.append(er)\n",
    "searchfile.close()\n"
   ]
  },
  {
   "cell_type": "code",
   "execution_count": 3,
   "metadata": {},
   "outputs": [],
   "source": [
    "import numpy as np\n",
    "import scipy.stats"
   ]
  },
  {
   "cell_type": "code",
   "execution_count": 4,
   "metadata": {},
   "outputs": [],
   "source": [
    "std_dev_5, mean_5=np.std(error_5), np.mean(error_5)\n",
    "std_dev_6, mean_6=np.std(error_6), np.mean(error_6)"
   ]
  },
  {
   "cell_type": "code",
   "execution_count": 5,
   "metadata": {},
   "outputs": [
    {
     "name": "stdout",
     "output_type": "stream",
     "text": [
      "0.9001326303436678 -4.042009174311927\n",
      "0.5189569549646413 -2.1914977777777778\n"
     ]
    }
   ],
   "source": [
    "print(std_dev_5, mean_5)\n",
    "print(std_dev_6, mean_6)"
   ]
  },
  {
   "cell_type": "code",
   "execution_count": 9,
   "metadata": {},
   "outputs": [
    {
     "name": "stderr",
     "output_type": "stream",
     "text": [
      "C:\\Users\\ahmedadel\\AppData\\Local\\Continuum\\anaconda3\\lib\\site-packages\\ipykernel_launcher.py:7: MatplotlibDeprecationWarning: \n",
      "The 'normed' kwarg was deprecated in Matplotlib 2.1 and will be removed in 3.1. Use 'density' instead.\n",
      "  import sys\n"
     ]
    },
    {
     "data": {
      "text/plain": [
       "[<matplotlib.lines.Line2D at 0x77c60a8048>]"
      ]
     },
     "execution_count": 9,
     "metadata": {},
     "output_type": "execute_result"
    },
    {
     "data": {
      "image/png": "[encoded data removed]",
      "text/plain": [
       "<Figure size 432x288 with 1 Axes>"
      ]
     },
     "metadata": {
      "needs_background": "light"
     },
     "output_type": "display_data"
    }
   ],
   "source": [
    "bw =  None\n",
    "kde = scipy.stats.gaussian_kde(error_5,bw_method=bw) \n",
    "\n",
    "\n",
    "# plot (normalized) histogram of the data\n",
    "import matplotlib.pyplot as plt \n",
    "plt.hist(error_5, 50, normed=1, facecolor='green', alpha=0.5);\n",
    "\n",
    "# plot density estimates\n",
    "t_range = np.linspace(min(error_5),max(error_5),len(error_5))\n",
    "plt.plot(t_range,kde(t_range),lw=2)\n"
   ]
  },
  {
   "cell_type": "code",
   "execution_count": 7,
   "metadata": {},
   "outputs": [
    {
     "name": "stderr",
     "output_type": "stream",
     "text": [
      "C:\\Users\\ahmedadel\\AppData\\Local\\Continuum\\anaconda3\\lib\\site-packages\\ipykernel_launcher.py:7: MatplotlibDeprecationWarning: \n",
      "The 'normed' kwarg was deprecated in Matplotlib 2.1 and will be removed in 3.1. Use 'density' instead.\n",
      "  import sys\n"
     ]
    },
    {
     "data": {
      "text/plain": [
       "[<matplotlib.lines.Line2D at 0x77c5fb7550>]"
      ]
     },
     "execution_count": 7,
     "metadata": {},
     "output_type": "execute_result"
    },
    {
     "data": {
      "image/png": "[encoded data removed]",
      "text/plain": [
       "<Figure size 432x288 with 1 Axes>"
      ]
     },
     "metadata": {
      "needs_background": "light"
     },
     "output_type": "display_data"
    }
   ],
   "source": [
    "bw =  None\n",
    "kde = scipy.stats.gaussian_kde(error_6,bw_method=bw) \n",
    "\n",
    "\n",
    "# plot (normalized) histogram of the data\n",
    "import matplotlib.pyplot as plt \n",
    "plt.hist(error_6, 50, normed=1, facecolor='green', alpha=0.5);\n",
    "\n",
    "# plot density estimates\n",
    "t_range = np.linspace(min(error_6),max(error_6),len(error_6))\n",
    "plt.plot(t_range,kde(t_range),lw=2)\n"
   ]
  }
 ],
 "metadata": {
  "kernelspec": {
   "display_name": "Python 3",
   "language": "python",
   "name": "python3"
  },
  "language_info": {
   "codemirror_mode": {
    "name": "ipython",
    "version": 3
   },
   "file_extension": ".py",
   "mimetype": "text/x-python",
   "name": "python",
   "nbconvert_exporter": "python",
   "pygments_lexer": "ipython3",
   "version": "3.7.3"
  }
 },
 "nbformat": 4,
 "nbformat_minor": 2
}
